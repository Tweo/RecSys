{
 "cells": [
  {
   "cell_type": "markdown",
   "metadata": {},
   "source": [
    "# Collaborative filtering"
   ]
  },
  {
   "cell_type": "code",
   "execution_count": 2,
   "metadata": {
    "collapsed": true
   },
   "outputs": [],
   "source": [
    "import pandas as pd\n",
    "import numpy as np"
   ]
  },
  {
   "cell_type": "markdown",
   "metadata": {},
   "source": [
    "### Title column conversion to list of integers"
   ]
  },
  {
   "cell_type": "code",
   "execution_count": 3,
   "metadata": {
    "collapsed": true
   },
   "outputs": [],
   "source": [
    "import string\n",
    "\n",
    "def stringParsing(listString):\n",
    "    x = \"\".join(x for x in listString if x not in string.punctuation)\n",
    "    x = list(map(int, x.split()))\n",
    "\n",
    "    return x"
   ]
  },
  {
   "cell_type": "code",
   "execution_count": 4,
   "metadata": {
    "collapsed": true
   },
   "outputs": [],
   "source": [
    "playlists = pd.read_csv('Data/playlists_final.csv', sep='\\t')\n",
    "tracks = pd.read_csv('Data/tracks_final.csv', sep='\\t')\n",
    "target_tracks = pd.read_csv('Data/target_tracks.csv', sep='\\t')\n",
    "interactions = pd.read_csv('Data/train_final.csv', sep='\\t')"
   ]
  },
  {
   "cell_type": "code",
   "execution_count": 5,
   "metadata": {
    "collapsed": true
   },
   "outputs": [],
   "source": [
    "playlists['title'] = playlists['title'].apply(stringParsing)\n",
    "tracks['tags'] = tracks['tags'].apply(stringParsing)"
   ]
  },
  {
   "cell_type": "code",
   "execution_count": 6,
   "metadata": {},
   "outputs": [
    {
     "data": {
      "text/html": [
       "<div>\n",
       "<style>\n",
       "    .dataframe thead tr:only-child th {\n",
       "        text-align: right;\n",
       "    }\n",
       "\n",
       "    .dataframe thead th {\n",
       "        text-align: left;\n",
       "    }\n",
       "\n",
       "    .dataframe tbody tr th {\n",
       "        vertical-align: top;\n",
       "    }\n",
       "</style>\n",
       "<table border=\"1\" class=\"dataframe\">\n",
       "  <thead>\n",
       "    <tr style=\"text-align: right;\">\n",
       "      <th></th>\n",
       "      <th>created_at</th>\n",
       "      <th>playlist_id</th>\n",
       "      <th>title</th>\n",
       "      <th>numtracks</th>\n",
       "      <th>duration</th>\n",
       "      <th>owner</th>\n",
       "    </tr>\n",
       "  </thead>\n",
       "  <tbody>\n",
       "    <tr>\n",
       "      <th>0</th>\n",
       "      <td>1216545588</td>\n",
       "      <td>644838</td>\n",
       "      <td>[12727]</td>\n",
       "      <td>27</td>\n",
       "      <td>6522</td>\n",
       "      <td>41504</td>\n",
       "    </tr>\n",
       "    <tr>\n",
       "      <th>1</th>\n",
       "      <td>1249326867</td>\n",
       "      <td>7577564</td>\n",
       "      <td>[]</td>\n",
       "      <td>9</td>\n",
       "      <td>2650</td>\n",
       "      <td>41504</td>\n",
       "    </tr>\n",
       "    <tr>\n",
       "      <th>2</th>\n",
       "      <td>1257766688</td>\n",
       "      <td>3120683</td>\n",
       "      <td>[183]</td>\n",
       "      <td>16</td>\n",
       "      <td>3645</td>\n",
       "      <td>44542</td>\n",
       "    </tr>\n",
       "    <tr>\n",
       "      <th>3</th>\n",
       "      <td>1248079275</td>\n",
       "      <td>4278112</td>\n",
       "      <td>[12389, 18698, 18925, 11695, 7117]</td>\n",
       "      <td>15</td>\n",
       "      <td>4151</td>\n",
       "      <td>44542</td>\n",
       "    </tr>\n",
       "    <tr>\n",
       "      <th>4</th>\n",
       "      <td>1175201268</td>\n",
       "      <td>8656823</td>\n",
       "      <td>[12809, 2095, 13257, 12671, 20426, 14448, 18698]</td>\n",
       "      <td>84</td>\n",
       "      <td>18414</td>\n",
       "      <td>44542</td>\n",
       "    </tr>\n",
       "  </tbody>\n",
       "</table>\n",
       "</div>"
      ],
      "text/plain": [
       "   created_at  playlist_id                                             title  \\\n",
       "0  1216545588       644838                                           [12727]   \n",
       "1  1249326867      7577564                                                []   \n",
       "2  1257766688      3120683                                             [183]   \n",
       "3  1248079275      4278112                [12389, 18698, 18925, 11695, 7117]   \n",
       "4  1175201268      8656823  [12809, 2095, 13257, 12671, 20426, 14448, 18698]   \n",
       "\n",
       "   numtracks  duration  owner  \n",
       "0         27      6522  41504  \n",
       "1          9      2650  41504  \n",
       "2         16      3645  44542  \n",
       "3         15      4151  44542  \n",
       "4         84     18414  44542  "
      ]
     },
     "execution_count": 6,
     "metadata": {},
     "output_type": "execute_result"
    }
   ],
   "source": [
    "playlists.head()"
   ]
  },
  {
   "cell_type": "code",
   "execution_count": 7,
   "metadata": {},
   "outputs": [
    {
     "data": {
      "text/html": [
       "<div>\n",
       "<style>\n",
       "    .dataframe thead tr:only-child th {\n",
       "        text-align: right;\n",
       "    }\n",
       "\n",
       "    .dataframe thead th {\n",
       "        text-align: left;\n",
       "    }\n",
       "\n",
       "    .dataframe tbody tr th {\n",
       "        vertical-align: top;\n",
       "    }\n",
       "</style>\n",
       "<table border=\"1\" class=\"dataframe\">\n",
       "  <thead>\n",
       "    <tr style=\"text-align: right;\">\n",
       "      <th></th>\n",
       "      <th>track_id</th>\n",
       "      <th>artist_id</th>\n",
       "      <th>duration</th>\n",
       "      <th>playcount</th>\n",
       "      <th>album</th>\n",
       "      <th>tags</th>\n",
       "    </tr>\n",
       "  </thead>\n",
       "  <tbody>\n",
       "    <tr>\n",
       "      <th>0</th>\n",
       "      <td>2972914</td>\n",
       "      <td>144</td>\n",
       "      <td>224000</td>\n",
       "      <td>49.0</td>\n",
       "      <td>[7]</td>\n",
       "      <td>[54087, 1757, 1718, 116712, 189631]</td>\n",
       "    </tr>\n",
       "    <tr>\n",
       "      <th>1</th>\n",
       "      <td>2750239</td>\n",
       "      <td>246</td>\n",
       "      <td>157000</td>\n",
       "      <td>1.0</td>\n",
       "      <td>[8]</td>\n",
       "      <td>[189631, 3424, 177424, 46208, 205245]</td>\n",
       "    </tr>\n",
       "    <tr>\n",
       "      <th>2</th>\n",
       "      <td>1550729</td>\n",
       "      <td>144</td>\n",
       "      <td>217000</td>\n",
       "      <td>554.0</td>\n",
       "      <td>[9]</td>\n",
       "      <td>[54087, 109806, 46869, 183258, 54337]</td>\n",
       "    </tr>\n",
       "    <tr>\n",
       "      <th>3</th>\n",
       "      <td>2169950</td>\n",
       "      <td>144</td>\n",
       "      <td>207000</td>\n",
       "      <td>200.0</td>\n",
       "      <td>[9]</td>\n",
       "      <td>[54087, 70618, 207003, 109806, 116712]</td>\n",
       "    </tr>\n",
       "    <tr>\n",
       "      <th>4</th>\n",
       "      <td>1903709</td>\n",
       "      <td>144</td>\n",
       "      <td>198000</td>\n",
       "      <td>5.0</td>\n",
       "      <td>[None]</td>\n",
       "      <td>[54087, 81223, 116712, 215342, 71028]</td>\n",
       "    </tr>\n",
       "  </tbody>\n",
       "</table>\n",
       "</div>"
      ],
      "text/plain": [
       "   track_id  artist_id  duration  playcount   album  \\\n",
       "0   2972914        144    224000       49.0     [7]   \n",
       "1   2750239        246    157000        1.0     [8]   \n",
       "2   1550729        144    217000      554.0     [9]   \n",
       "3   2169950        144    207000      200.0     [9]   \n",
       "4   1903709        144    198000        5.0  [None]   \n",
       "\n",
       "                                     tags  \n",
       "0     [54087, 1757, 1718, 116712, 189631]  \n",
       "1   [189631, 3424, 177424, 46208, 205245]  \n",
       "2   [54087, 109806, 46869, 183258, 54337]  \n",
       "3  [54087, 70618, 207003, 109806, 116712]  \n",
       "4   [54087, 81223, 116712, 215342, 71028]  "
      ]
     },
     "execution_count": 7,
     "metadata": {},
     "output_type": "execute_result"
    }
   ],
   "source": [
    "tracks.head()"
   ]
  },
  {
   "cell_type": "code",
   "execution_count": 8,
   "metadata": {},
   "outputs": [
    {
     "data": {
      "text/html": [
       "<div>\n",
       "<style>\n",
       "    .dataframe thead tr:only-child th {\n",
       "        text-align: right;\n",
       "    }\n",
       "\n",
       "    .dataframe thead th {\n",
       "        text-align: left;\n",
       "    }\n",
       "\n",
       "    .dataframe tbody tr th {\n",
       "        vertical-align: top;\n",
       "    }\n",
       "</style>\n",
       "<table border=\"1\" class=\"dataframe\">\n",
       "  <thead>\n",
       "    <tr style=\"text-align: right;\">\n",
       "      <th></th>\n",
       "      <th>playlist_id</th>\n",
       "      <th>track_id</th>\n",
       "    </tr>\n",
       "  </thead>\n",
       "  <tbody>\n",
       "    <tr>\n",
       "      <th>0</th>\n",
       "      <td>3271849</td>\n",
       "      <td>2801526</td>\n",
       "    </tr>\n",
       "    <tr>\n",
       "      <th>1</th>\n",
       "      <td>5616275</td>\n",
       "      <td>727878</td>\n",
       "    </tr>\n",
       "    <tr>\n",
       "      <th>2</th>\n",
       "      <td>11267488</td>\n",
       "      <td>2805283</td>\n",
       "    </tr>\n",
       "    <tr>\n",
       "      <th>3</th>\n",
       "      <td>10103900</td>\n",
       "      <td>1515105</td>\n",
       "    </tr>\n",
       "    <tr>\n",
       "      <th>4</th>\n",
       "      <td>3836898</td>\n",
       "      <td>2945623</td>\n",
       "    </tr>\n",
       "  </tbody>\n",
       "</table>\n",
       "</div>"
      ],
      "text/plain": [
       "   playlist_id  track_id\n",
       "0      3271849   2801526\n",
       "1      5616275    727878\n",
       "2     11267488   2805283\n",
       "3     10103900   1515105\n",
       "4      3836898   2945623"
      ]
     },
     "execution_count": 8,
     "metadata": {},
     "output_type": "execute_result"
    }
   ],
   "source": [
    "interactions.head()"
   ]
  },
  {
   "cell_type": "code",
   "execution_count": 9,
   "metadata": {
    "collapsed": true
   },
   "outputs": [],
   "source": [
    "interactions.drop_duplicates(subset=['playlist_id', 'track_id'], keep='first')\n",
    "interactions['rating'] = np.ones(interactions.shape[0])"
   ]
  },
  {
   "cell_type": "code",
   "execution_count": 10,
   "metadata": {},
   "outputs": [
    {
     "data": {
      "text/html": [
       "<div>\n",
       "<style>\n",
       "    .dataframe thead tr:only-child th {\n",
       "        text-align: right;\n",
       "    }\n",
       "\n",
       "    .dataframe thead th {\n",
       "        text-align: left;\n",
       "    }\n",
       "\n",
       "    .dataframe tbody tr th {\n",
       "        vertical-align: top;\n",
       "    }\n",
       "</style>\n",
       "<table border=\"1\" class=\"dataframe\">\n",
       "  <thead>\n",
       "    <tr style=\"text-align: right;\">\n",
       "      <th></th>\n",
       "      <th>playlist_id</th>\n",
       "      <th>track_id</th>\n",
       "      <th>rating</th>\n",
       "    </tr>\n",
       "  </thead>\n",
       "  <tbody>\n",
       "    <tr>\n",
       "      <th>0</th>\n",
       "      <td>3271849</td>\n",
       "      <td>2801526</td>\n",
       "      <td>1.0</td>\n",
       "    </tr>\n",
       "    <tr>\n",
       "      <th>1</th>\n",
       "      <td>5616275</td>\n",
       "      <td>727878</td>\n",
       "      <td>1.0</td>\n",
       "    </tr>\n",
       "    <tr>\n",
       "      <th>2</th>\n",
       "      <td>11267488</td>\n",
       "      <td>2805283</td>\n",
       "      <td>1.0</td>\n",
       "    </tr>\n",
       "    <tr>\n",
       "      <th>3</th>\n",
       "      <td>10103900</td>\n",
       "      <td>1515105</td>\n",
       "      <td>1.0</td>\n",
       "    </tr>\n",
       "    <tr>\n",
       "      <th>4</th>\n",
       "      <td>3836898</td>\n",
       "      <td>2945623</td>\n",
       "      <td>1.0</td>\n",
       "    </tr>\n",
       "  </tbody>\n",
       "</table>\n",
       "</div>"
      ],
      "text/plain": [
       "   playlist_id  track_id  rating\n",
       "0      3271849   2801526     1.0\n",
       "1      5616275    727878     1.0\n",
       "2     11267488   2805283     1.0\n",
       "3     10103900   1515105     1.0\n",
       "4      3836898   2945623     1.0"
      ]
     },
     "execution_count": 10,
     "metadata": {},
     "output_type": "execute_result"
    }
   ],
   "source": [
    "interactions.head()"
   ]
  },
  {
   "cell_type": "code",
   "execution_count": 11,
   "metadata": {},
   "outputs": [
    {
     "name": "stdout",
     "output_type": "stream",
     "text": [
      "Num of Playlists: 45649\n",
      "Num of Tracks: 99999\n"
     ]
    }
   ],
   "source": [
    "n_playlists = interactions.playlist_id.nunique()\n",
    "n_tracks = interactions.track_id.nunique()\n",
    "\n",
    "playlists = interactions.playlist_id.unique()\n",
    "tracks = interactions.track_id.unique()\n",
    "\n",
    "print(\"Num of Playlists: %d\" % n_playlists)\n",
    "print(\"Num of Tracks: %d\" % n_tracks)"
   ]
  },
  {
   "cell_type": "code",
   "execution_count": 12,
   "metadata": {
    "collapsed": true
   },
   "outputs": [],
   "source": [
    "playlist_to_idx = pd.Series(data=np.arange(len(playlists)), index=playlists)\n",
    "track_to_idx = pd.Series(data=np.arange(len(tracks)), index=tracks)\n",
    "\n",
    "idx_to_playlist = pd.Series(data=playlist_to_idx.index, index=playlist_to_idx.data)\n",
    "idx_to_track = pd.Series(data=track_to_idx.index, index=track_to_idx.data)\n",
    "\n",
    "interactions['playlist_id'] = interactions['playlist_id'].map(lambda x: playlist_to_idx[x])\n",
    "interactions['track_id'] = interactions['track_id'].map(lambda x: track_to_idx[x])"
   ]
  },
  {
   "cell_type": "code",
   "execution_count": 13,
   "metadata": {},
   "outputs": [
    {
     "data": {
      "text/html": [
       "<div>\n",
       "<style>\n",
       "    .dataframe thead tr:only-child th {\n",
       "        text-align: right;\n",
       "    }\n",
       "\n",
       "    .dataframe thead th {\n",
       "        text-align: left;\n",
       "    }\n",
       "\n",
       "    .dataframe tbody tr th {\n",
       "        vertical-align: top;\n",
       "    }\n",
       "</style>\n",
       "<table border=\"1\" class=\"dataframe\">\n",
       "  <thead>\n",
       "    <tr style=\"text-align: right;\">\n",
       "      <th></th>\n",
       "      <th>playlist_id</th>\n",
       "      <th>track_id</th>\n",
       "      <th>rating</th>\n",
       "    </tr>\n",
       "  </thead>\n",
       "  <tbody>\n",
       "    <tr>\n",
       "      <th>0</th>\n",
       "      <td>0</td>\n",
       "      <td>0</td>\n",
       "      <td>1.0</td>\n",
       "    </tr>\n",
       "    <tr>\n",
       "      <th>1</th>\n",
       "      <td>1</td>\n",
       "      <td>1</td>\n",
       "      <td>1.0</td>\n",
       "    </tr>\n",
       "    <tr>\n",
       "      <th>2</th>\n",
       "      <td>2</td>\n",
       "      <td>2</td>\n",
       "      <td>1.0</td>\n",
       "    </tr>\n",
       "    <tr>\n",
       "      <th>3</th>\n",
       "      <td>3</td>\n",
       "      <td>3</td>\n",
       "      <td>1.0</td>\n",
       "    </tr>\n",
       "    <tr>\n",
       "      <th>4</th>\n",
       "      <td>4</td>\n",
       "      <td>4</td>\n",
       "      <td>1.0</td>\n",
       "    </tr>\n",
       "  </tbody>\n",
       "</table>\n",
       "</div>"
      ],
      "text/plain": [
       "   playlist_id  track_id  rating\n",
       "0            0         0     1.0\n",
       "1            1         1     1.0\n",
       "2            2         2     1.0\n",
       "3            3         3     1.0\n",
       "4            4         4     1.0"
      ]
     },
     "execution_count": 13,
     "metadata": {},
     "output_type": "execute_result"
    }
   ],
   "source": [
    "interactions.head()"
   ]
  },
  {
   "cell_type": "code",
   "execution_count": 14,
   "metadata": {},
   "outputs": [
    {
     "name": "stderr",
     "output_type": "stream",
     "text": [
      "C:\\Users\\Pavle\\Miniconda3\\envs\\recsys_teo\\lib\\site-packages\\sklearn\\cross_validation.py:41: DeprecationWarning: This module was deprecated in version 0.18 in favor of the model_selection module into which all the refactored classes and functions are moved. Also note that the interface of the new CV iterators are different from that of this module. This module will be removed in 0.20.\n",
      "  \"This module will be removed in 0.20.\", DeprecationWarning)\n"
     ]
    }
   ],
   "source": [
    "# Train/Test split\n",
    "from sklearn.cross_validation import train_test_split\n",
    "train_data, test_data = train_test_split(interactions, test_size=0.25)"
   ]
  },
  {
   "cell_type": "code",
   "execution_count": 15,
   "metadata": {
    "collapsed": true
   },
   "outputs": [],
   "source": [
    "from tempfile import mkdtemp\n",
    "import os.path as path\n",
    "train_file = path.join(mkdtemp(), 'trainFile.dat')\n",
    "test_file = path.join(mkdtemp(), 'testFile.dat')"
   ]
  },
  {
   "cell_type": "code",
   "execution_count": null,
   "metadata": {
    "collapsed": true
   },
   "outputs": [],
   "source": [
    "train_data_matrix = np.memmap(train_file, dtype='float32', mode='w+', shape=(n_playlists,n_tracks))\n",
    "\n",
    "for line in train_data.iterrows():\n",
    "    train_data_matrix[int(line[1][0]), int(line[1][1])] = int(line[1][2]) # or equals just 1\n",
    "    \n",
    "test_data_matrix = np.memmap(test_file, dtype='float32', mode='w+', shape=(n_playlists,n_tracks))\n",
    "for line in test_data.iterrows():\n",
    "    test_data_matrix[int(line[1][0]), int(line[1][1])] = int(line[1][2]) # or equals just 1"
   ]
  },
  {
   "cell_type": "code",
   "execution_count": null,
   "metadata": {
    "collapsed": true
   },
   "outputs": [],
   "source": [
    "# Train and Test split\n",
    "# Creating two playlist-track matrices, one for training and one for testing\n",
    "from sklearn.metrics.pairwise import pairwise_distances\n",
    "user_similarity = pairwise_distances(train_data_matrix, metric='cosine')\n",
    "item_similarity = pairwise_distances(train_data_matrix.T, metric='cosine')"
   ]
  },
  {
   "cell_type": "code",
   "execution_count": null,
   "metadata": {
    "collapsed": true
   },
   "outputs": [],
   "source": [
    "def predict(ratings, similarity, type='user'):\n",
    "    if type == 'user':\n",
    "        mean_user_rating = ratings.mean(axis=1)\n",
    "        #You use np.newaxis so that mean_user_rating has same format as ratings\n",
    "        ratings_diff = (ratings - mean_user_rating[:, np.newaxis]) \n",
    "        pred = mean_user_rating[:, np.newaxis] + similarity.dot(ratings_diff) / np.array([np.abs(similarity).sum(axis=1)]).T\n",
    "    elif type == 'item':\n",
    "        pred = ratings.dot(similarity) / np.array([np.abs(similarity).sum(axis=1)])     \n",
    "    return pred"
   ]
  },
  {
   "cell_type": "code",
   "execution_count": null,
   "metadata": {
    "collapsed": true
   },
   "outputs": [],
   "source": [
    "item_prediction = predict(train_data_matrix, item_similarity, type='item')\n",
    "user_prediction = predict(train_data_matrix, user_similarity, type='user')"
   ]
  },
  {
   "cell_type": "markdown",
   "metadata": {},
   "source": [
    "# Evaluation"
   ]
  },
  {
   "cell_type": "code",
   "execution_count": null,
   "metadata": {
    "collapsed": true
   },
   "outputs": [],
   "source": [
    "from sklearn.metrics import mean_squared_error\n",
    "from math import sqrt\n",
    "def rmse(prediction, ground_truth):\n",
    "    prediction = prediction[ground_truth.nonzero()].flatten() \n",
    "    ground_truth = ground_truth[ground_truth.nonzero()].flatten()\n",
    "    return sqrt(mean_squared_error(prediction, ground_truth))"
   ]
  },
  {
   "cell_type": "code",
   "execution_count": null,
   "metadata": {
    "collapsed": true
   },
   "outputs": [],
   "source": [
    "print('User-based CF RMSE: ' + str(rmse(user_prediction, test_data_matrix)))\n",
    "print('Item-based CF RMSE: ' + str(rmse(item_prediction, test_data_matrix)))"
   ]
  },
  {
   "cell_type": "code",
   "execution_count": null,
   "metadata": {
    "collapsed": true
   },
   "outputs": [],
   "source": []
  },
  {
   "cell_type": "code",
   "execution_count": 1,
   "metadata": {},
   "outputs": [
    {
     "ename": "FileNotFoundError",
     "evalue": "File b'./Data/item_profile.csv' does not exist",
     "output_type": "error",
     "traceback": [
      "\u001b[1;31m---------------------------------------------------------------------------\u001b[0m",
      "\u001b[1;31mFileNotFoundError\u001b[0m                         Traceback (most recent call last)",
      "\u001b[1;32m<ipython-input-1-1e3bf1b8688d>\u001b[0m in \u001b[0;36m<module>\u001b[1;34m()\u001b[0m\n\u001b[0;32m     11\u001b[0m \u001b[1;32mimport\u001b[0m \u001b[0mtime\u001b[0m\u001b[1;33m\u001b[0m\u001b[0m\n\u001b[0;32m     12\u001b[0m \u001b[1;33m\u001b[0m\u001b[0m\n\u001b[1;32m---> 13\u001b[1;33m \u001b[1;32mimport\u001b[0m \u001b[0mproba\u001b[0m \u001b[1;32mas\u001b[0m \u001b[0mprb\u001b[0m\u001b[1;33m\u001b[0m\u001b[0m\n\u001b[0m\u001b[0;32m     14\u001b[0m \u001b[1;31m#read interactions\u001b[0m\u001b[1;33m\u001b[0m\u001b[1;33m\u001b[0m\u001b[0m\n\u001b[0;32m     15\u001b[0m \u001b[0mint_data\u001b[0m\u001b[1;33m=\u001b[0m\u001b[0mpd\u001b[0m\u001b[1;33m.\u001b[0m\u001b[0mread_csv\u001b[0m\u001b[1;33m(\u001b[0m\u001b[1;34m'./Data/train_final.csv'\u001b[0m\u001b[1;33m,\u001b[0m \u001b[0msep\u001b[0m\u001b[1;33m=\u001b[0m\u001b[1;34m'\\t'\u001b[0m\u001b[1;33m,\u001b[0m \u001b[0mheader\u001b[0m\u001b[1;33m=\u001b[0m\u001b[1;36m0\u001b[0m\u001b[1;33m)\u001b[0m\u001b[1;33m\u001b[0m\u001b[0m\n",
      "\u001b[1;32mD:\\RecSys Teo\\Recommender Systems\\Pavle\\proba.py\u001b[0m in \u001b[0;36m<module>\u001b[1;34m()\u001b[0m\n\u001b[0;32m     96\u001b[0m     \u001b[1;32mreturn\u001b[0m \u001b[0mdf\u001b[0m\u001b[1;33m\u001b[0m\u001b[0m\n\u001b[0;32m     97\u001b[0m \u001b[1;33m\u001b[0m\u001b[0m\n\u001b[1;32m---> 98\u001b[1;33m \u001b[0mdata\u001b[0m\u001b[1;33m=\u001b[0m\u001b[0mpd\u001b[0m\u001b[1;33m.\u001b[0m\u001b[0mread_csv\u001b[0m\u001b[1;33m(\u001b[0m\u001b[1;34m'./Data/item_profile.csv'\u001b[0m\u001b[1;33m,\u001b[0m \u001b[0msep\u001b[0m\u001b[1;33m=\u001b[0m\u001b[1;34m'\\t'\u001b[0m\u001b[1;33m,\u001b[0m \u001b[0mheader\u001b[0m\u001b[1;33m=\u001b[0m\u001b[1;36m0\u001b[0m\u001b[1;33m,\u001b[0m \u001b[0musecols\u001b[0m\u001b[1;33m=\u001b[0m\u001b[1;33m[\u001b[0m\u001b[1;34m'id'\u001b[0m\u001b[1;33m,\u001b[0m \u001b[1;34m'career_level'\u001b[0m\u001b[1;33m,\u001b[0m \u001b[1;34m'discipline_id'\u001b[0m\u001b[1;33m,\u001b[0m \u001b[1;34m'industry_id'\u001b[0m\u001b[1;33m,\u001b[0m \u001b[1;34m'country'\u001b[0m\u001b[1;33m,\u001b[0m \u001b[1;34m'region'\u001b[0m\u001b[1;33m,\u001b[0m \u001b[1;34m'latitude'\u001b[0m\u001b[1;33m,\u001b[0m \u001b[1;34m'longitude'\u001b[0m\u001b[1;33m,\u001b[0m \u001b[1;34m'employment'\u001b[0m\u001b[1;33m,\u001b[0m \u001b[1;34m'active_during_test'\u001b[0m\u001b[1;33m,\u001b[0m \u001b[1;34m'tags'\u001b[0m\u001b[1;33m,\u001b[0m \u001b[1;34m'title'\u001b[0m\u001b[1;33m]\u001b[0m\u001b[1;33m)\u001b[0m\u001b[1;33m\u001b[0m\u001b[0m\n\u001b[0m\u001b[0;32m     99\u001b[0m \u001b[1;33m\u001b[0m\u001b[0m\n\u001b[0;32m    100\u001b[0m \u001b[0mdf\u001b[0m \u001b[1;33m=\u001b[0m \u001b[0msplit_titles_column\u001b[0m\u001b[1;33m(\u001b[0m\u001b[0mdata\u001b[0m\u001b[1;33m)\u001b[0m\u001b[1;33m\u001b[0m\u001b[0m\n",
      "\u001b[1;32m~\\Miniconda3\\envs\\recsys_teo\\lib\\site-packages\\pandas\\io\\parsers.py\u001b[0m in \u001b[0;36mparser_f\u001b[1;34m(filepath_or_buffer, sep, delimiter, header, names, index_col, usecols, squeeze, prefix, mangle_dupe_cols, dtype, engine, converters, true_values, false_values, skipinitialspace, skiprows, nrows, na_values, keep_default_na, na_filter, verbose, skip_blank_lines, parse_dates, infer_datetime_format, keep_date_col, date_parser, dayfirst, iterator, chunksize, compression, thousands, decimal, lineterminator, quotechar, quoting, escapechar, comment, encoding, dialect, tupleize_cols, error_bad_lines, warn_bad_lines, skipfooter, skip_footer, doublequote, delim_whitespace, as_recarray, compact_ints, use_unsigned, low_memory, buffer_lines, memory_map, float_precision)\u001b[0m\n\u001b[0;32m    653\u001b[0m                     skip_blank_lines=skip_blank_lines)\n\u001b[0;32m    654\u001b[0m \u001b[1;33m\u001b[0m\u001b[0m\n\u001b[1;32m--> 655\u001b[1;33m         \u001b[1;32mreturn\u001b[0m \u001b[0m_read\u001b[0m\u001b[1;33m(\u001b[0m\u001b[0mfilepath_or_buffer\u001b[0m\u001b[1;33m,\u001b[0m \u001b[0mkwds\u001b[0m\u001b[1;33m)\u001b[0m\u001b[1;33m\u001b[0m\u001b[0m\n\u001b[0m\u001b[0;32m    656\u001b[0m \u001b[1;33m\u001b[0m\u001b[0m\n\u001b[0;32m    657\u001b[0m     \u001b[0mparser_f\u001b[0m\u001b[1;33m.\u001b[0m\u001b[0m__name__\u001b[0m \u001b[1;33m=\u001b[0m \u001b[0mname\u001b[0m\u001b[1;33m\u001b[0m\u001b[0m\n",
      "\u001b[1;32m~\\Miniconda3\\envs\\recsys_teo\\lib\\site-packages\\pandas\\io\\parsers.py\u001b[0m in \u001b[0;36m_read\u001b[1;34m(filepath_or_buffer, kwds)\u001b[0m\n\u001b[0;32m    403\u001b[0m \u001b[1;33m\u001b[0m\u001b[0m\n\u001b[0;32m    404\u001b[0m     \u001b[1;31m# Create the parser.\u001b[0m\u001b[1;33m\u001b[0m\u001b[1;33m\u001b[0m\u001b[0m\n\u001b[1;32m--> 405\u001b[1;33m     \u001b[0mparser\u001b[0m \u001b[1;33m=\u001b[0m \u001b[0mTextFileReader\u001b[0m\u001b[1;33m(\u001b[0m\u001b[0mfilepath_or_buffer\u001b[0m\u001b[1;33m,\u001b[0m \u001b[1;33m**\u001b[0m\u001b[0mkwds\u001b[0m\u001b[1;33m)\u001b[0m\u001b[1;33m\u001b[0m\u001b[0m\n\u001b[0m\u001b[0;32m    406\u001b[0m \u001b[1;33m\u001b[0m\u001b[0m\n\u001b[0;32m    407\u001b[0m     \u001b[1;32mif\u001b[0m \u001b[0mchunksize\u001b[0m \u001b[1;32mor\u001b[0m \u001b[0miterator\u001b[0m\u001b[1;33m:\u001b[0m\u001b[1;33m\u001b[0m\u001b[0m\n",
      "\u001b[1;32m~\\Miniconda3\\envs\\recsys_teo\\lib\\site-packages\\pandas\\io\\parsers.py\u001b[0m in \u001b[0;36m__init__\u001b[1;34m(self, f, engine, **kwds)\u001b[0m\n\u001b[0;32m    762\u001b[0m             \u001b[0mself\u001b[0m\u001b[1;33m.\u001b[0m\u001b[0moptions\u001b[0m\u001b[1;33m[\u001b[0m\u001b[1;34m'has_index_names'\u001b[0m\u001b[1;33m]\u001b[0m \u001b[1;33m=\u001b[0m \u001b[0mkwds\u001b[0m\u001b[1;33m[\u001b[0m\u001b[1;34m'has_index_names'\u001b[0m\u001b[1;33m]\u001b[0m\u001b[1;33m\u001b[0m\u001b[0m\n\u001b[0;32m    763\u001b[0m \u001b[1;33m\u001b[0m\u001b[0m\n\u001b[1;32m--> 764\u001b[1;33m         \u001b[0mself\u001b[0m\u001b[1;33m.\u001b[0m\u001b[0m_make_engine\u001b[0m\u001b[1;33m(\u001b[0m\u001b[0mself\u001b[0m\u001b[1;33m.\u001b[0m\u001b[0mengine\u001b[0m\u001b[1;33m)\u001b[0m\u001b[1;33m\u001b[0m\u001b[0m\n\u001b[0m\u001b[0;32m    765\u001b[0m \u001b[1;33m\u001b[0m\u001b[0m\n\u001b[0;32m    766\u001b[0m     \u001b[1;32mdef\u001b[0m \u001b[0mclose\u001b[0m\u001b[1;33m(\u001b[0m\u001b[0mself\u001b[0m\u001b[1;33m)\u001b[0m\u001b[1;33m:\u001b[0m\u001b[1;33m\u001b[0m\u001b[0m\n",
      "\u001b[1;32m~\\Miniconda3\\envs\\recsys_teo\\lib\\site-packages\\pandas\\io\\parsers.py\u001b[0m in \u001b[0;36m_make_engine\u001b[1;34m(self, engine)\u001b[0m\n\u001b[0;32m    983\u001b[0m     \u001b[1;32mdef\u001b[0m \u001b[0m_make_engine\u001b[0m\u001b[1;33m(\u001b[0m\u001b[0mself\u001b[0m\u001b[1;33m,\u001b[0m \u001b[0mengine\u001b[0m\u001b[1;33m=\u001b[0m\u001b[1;34m'c'\u001b[0m\u001b[1;33m)\u001b[0m\u001b[1;33m:\u001b[0m\u001b[1;33m\u001b[0m\u001b[0m\n\u001b[0;32m    984\u001b[0m         \u001b[1;32mif\u001b[0m \u001b[0mengine\u001b[0m \u001b[1;33m==\u001b[0m \u001b[1;34m'c'\u001b[0m\u001b[1;33m:\u001b[0m\u001b[1;33m\u001b[0m\u001b[0m\n\u001b[1;32m--> 985\u001b[1;33m             \u001b[0mself\u001b[0m\u001b[1;33m.\u001b[0m\u001b[0m_engine\u001b[0m \u001b[1;33m=\u001b[0m \u001b[0mCParserWrapper\u001b[0m\u001b[1;33m(\u001b[0m\u001b[0mself\u001b[0m\u001b[1;33m.\u001b[0m\u001b[0mf\u001b[0m\u001b[1;33m,\u001b[0m \u001b[1;33m**\u001b[0m\u001b[0mself\u001b[0m\u001b[1;33m.\u001b[0m\u001b[0moptions\u001b[0m\u001b[1;33m)\u001b[0m\u001b[1;33m\u001b[0m\u001b[0m\n\u001b[0m\u001b[0;32m    986\u001b[0m         \u001b[1;32melse\u001b[0m\u001b[1;33m:\u001b[0m\u001b[1;33m\u001b[0m\u001b[0m\n\u001b[0;32m    987\u001b[0m             \u001b[1;32mif\u001b[0m \u001b[0mengine\u001b[0m \u001b[1;33m==\u001b[0m \u001b[1;34m'python'\u001b[0m\u001b[1;33m:\u001b[0m\u001b[1;33m\u001b[0m\u001b[0m\n",
      "\u001b[1;32m~\\Miniconda3\\envs\\recsys_teo\\lib\\site-packages\\pandas\\io\\parsers.py\u001b[0m in \u001b[0;36m__init__\u001b[1;34m(self, src, **kwds)\u001b[0m\n\u001b[0;32m   1603\u001b[0m         \u001b[0mkwds\u001b[0m\u001b[1;33m[\u001b[0m\u001b[1;34m'allow_leading_cols'\u001b[0m\u001b[1;33m]\u001b[0m \u001b[1;33m=\u001b[0m \u001b[0mself\u001b[0m\u001b[1;33m.\u001b[0m\u001b[0mindex_col\u001b[0m \u001b[1;32mis\u001b[0m \u001b[1;32mnot\u001b[0m \u001b[1;32mFalse\u001b[0m\u001b[1;33m\u001b[0m\u001b[0m\n\u001b[0;32m   1604\u001b[0m \u001b[1;33m\u001b[0m\u001b[0m\n\u001b[1;32m-> 1605\u001b[1;33m         \u001b[0mself\u001b[0m\u001b[1;33m.\u001b[0m\u001b[0m_reader\u001b[0m \u001b[1;33m=\u001b[0m \u001b[0mparsers\u001b[0m\u001b[1;33m.\u001b[0m\u001b[0mTextReader\u001b[0m\u001b[1;33m(\u001b[0m\u001b[0msrc\u001b[0m\u001b[1;33m,\u001b[0m \u001b[1;33m**\u001b[0m\u001b[0mkwds\u001b[0m\u001b[1;33m)\u001b[0m\u001b[1;33m\u001b[0m\u001b[0m\n\u001b[0m\u001b[0;32m   1606\u001b[0m \u001b[1;33m\u001b[0m\u001b[0m\n\u001b[0;32m   1607\u001b[0m         \u001b[1;31m# XXX\u001b[0m\u001b[1;33m\u001b[0m\u001b[1;33m\u001b[0m\u001b[0m\n",
      "\u001b[1;32mpandas\\_libs\\parsers.pyx\u001b[0m in \u001b[0;36mpandas._libs.parsers.TextReader.__cinit__ (pandas\\_libs\\parsers.c:4209)\u001b[1;34m()\u001b[0m\n",
      "\u001b[1;32mpandas\\_libs\\parsers.pyx\u001b[0m in \u001b[0;36mpandas._libs.parsers.TextReader._setup_parser_source (pandas\\_libs\\parsers.c:8873)\u001b[1;34m()\u001b[0m\n",
      "\u001b[1;31mFileNotFoundError\u001b[0m: File b'./Data/item_profile.csv' does not exist"
     ]
    }
   ],
   "source": [
    "# -*- coding: utf-8 -*-\n",
    "\n",
    "import pandas as pd \n",
    "import numpy as np\n",
    "import scipy.sparse as sps\n",
    "from sklearn.metrics.pairwise import cosine_similarity\n",
    "\n",
    "from similarity import Cosine\n",
    "from scipy.io import mmwrite, mmread\n",
    "\n",
    "import time\n",
    "\n",
    "import proba as prb\n",
    "#read interactions\n",
    "int_data=pd.read_csv('./Data/train_final.csv', sep='\\t', header=0)\n",
    "int_data = int_data.sort_values(['playlist_id', 'track_id', 'interaction_type'], ascending=False)\n",
    "int_data = int_data.drop_duplicates(subset=['user_id', 'item_id'], keep='first')\n",
    "\n",
    "\n",
    "items = int_data['track_id'].unique()\n",
    "users = int_data['playlist_id'].unique()\n",
    "\n",
    "item_to_idx = pd.Series(data=np.arange(len(items)), index=items)\n",
    "user_to_idx = pd.Series(data=np.arange(len(users)), index=users)\n",
    "\n",
    "idx_to_item = pd.Series(index=item_to_idx.data, data=item_to_idx.index)\n",
    "idx_to_user = pd.Series(index=user_to_idx.data, data=user_to_idx.index)\n",
    "\n",
    "#target users\n",
    "tusers = pd.read_csv('./Data/target_playlists.csv', header=0)\n",
    "tusers_that_rated = tusers[tusers['playlist_id'].isin(users) == True]\n",
    "tusers_that_rated = tusers_that_rated.values.ravel()\n",
    "\n",
    "#get item_ids that the traget users rated\n",
    "#compute similarity only for these items\n",
    "tusers_data = int_data[int_data['playlist_id'].isin(tusers_that_rated) == True]\n",
    "items_to_compute = tusers_data['track_id'].unique()\n",
    "\n",
    "#read item profiles\n",
    "data=pd.read_csv('./Data/tracks_final.csv', sep='\\t', header=0, usecols=['track_id', 'artist_id'])# 'discipline_id', 'industry_id', 'country', 'region', 'latitude', 'longitude', 'employment', 'active_during_test', 'tags', 'title'])\n",
    "data = data.fillna(0)\n",
    "\n",
    "# #not activeitems\n",
    "# not_active_items = data.iloc[:][data['active_during_test'] == 0]\n",
    "# not_active_items = not_active_items['id'].values\n",
    "\n",
    "\n",
    "\n",
    "c = data['artist_id'].unique()\n",
    "# d = data['discipline_id'].unique()\n",
    "# i = data['industry_id'].unique()\n",
    "# cn = data['country'].unique()\n",
    "# r = data['region'].unique()\n",
    "# la = data['latitude'].unique()\n",
    "# lg = data['longitude'].unique()\n",
    "# e = data['employment'].unique()\n",
    "# tags = prb.get_disj_tags()\n",
    "# titles = prb.get_disj_titles()\n",
    "\n",
    "pitem_to_idx = pd.Series(data=np.arange(data.shape[0]), index=data['track_id'])\n",
    "idx_to_pitem = pd.Series(index=pitem_to_idx.data, data=pitem_to_idx.index)\n",
    "\n",
    "\n",
    "\n",
    "c_to_idx = pd.Series(index=c, data=np.arange(c.shape[0]))\n",
    "# d_to_idx = pd.Series(index=d, data=np.arange(c.shape[0], c.shape[0] + d.shape[0]))\n",
    "# i_to_idx = pd.Series(index=i, data=np.arange(c.shape[0] + d.shape[0], c.shape[0] + d.shape[0] + i.shape[0]))\n",
    "# cn_to_idx = pd.Series(index=cn, data=np.arange(c.shape[0] + d.shape[0] + i.shape[0], c.shape[0] + d.shape[0] + i.shape[0] + cn.shape[0]))\n",
    "# r_to_idx = pd.Series(index=r, data=np.arange(c.shape[0] + d.shape[0] + i.shape[0] +cn.shape[0], c.shape[0] + d.shape[0] + i.shape[0] + cn.shape[0] + r.shape[0]))\n",
    "# la_to_idx = pd.Series(index=la, data=np.arange(c.shape[0] + d.shape[0] + i.shape[0] +cn.shape[0] + r.shape[0], c.shape[0] + d.shape[0] + i.shape[0] + cn.shape[0] + r.shape[0] + la.shape[0]))\n",
    "# lg_to_idx = pd.Series(index=lg, data=np.arange(c.shape[0] + d.shape[0] + i.shape[0] +cn.shape[0] + r.shape[0] + la.shape[0], c.shape[0] + d.shape[0] + i.shape[0] + cn.shape[0] + r.shape[0] + la.shape[0] + lg.shape[0]))\n",
    "# e_to_idx = pd.Series(index=e, data=np.arange(c.shape[0] + d.shape[0] + i.shape[0] +cn.shape[0] + r.shape[0] + la.shape[0] + lg.shape[0], c.shape[0] + d.shape[0] + i.shape[0] + cn.shape[0] + r.shape[0] + la.shape[0] + lg.shape[0] + e.shape[0]))\n",
    "# tags_to_idx = pd.Series(index=tags, data=np.arange(c.shape[0] + d.shape[0] + i.shape[0] +cn.shape[0] + r.shape[0] + la.shape[0] + lg.shape[0], c.shape[0] + d.shape[0] + i.shape[0] + cn.shape[0] + r.shape[0] + la.shape[0] + lg.shape[0] + e.shape[0] + len(tags)))\n",
    "# titles_to_idx = pd.Series(index=titles, data=np.arange(c.shape[0] + d.shape[0] + i.shape[0] +cn.shape[0] + r.shape[0] + la.shape[0] + lg.shape[0], c.shape[0] + d.shape[0] + i.shape[0] + cn.shape[0] + r.shape[0] + la.shape[0] + lg.shape[0] + e.shape[0] + len(tags) +len(tags)))\n",
    "\n",
    "\n",
    "icm = sps.csc_matrix((data.shape[0], c.shape[0]))# + d.shape[0] + i.shape[0] + cn.shape[0] + r.shape[0] + la.shape[0] + lg.shape[0] + e.shape[0] + len(tags) + len(titles)))\n",
    "\n",
    "#fancy indexing\n",
    "icm[np.arange(0,data.shape[0]), c_to_idx[data.iloc[:,1].values]] = 1\n",
    "# icm[np.arange(0,data.shape[0]), d_to_idx[data.iloc[:,2].values]] = 1\n",
    "# icm[np.arange(0,data.shape[0]), i_to_idx[data.iloc[:,3].values]] = 1\n",
    "# icm[np.arange(0,data.shape[0]), cn_to_idx[data.iloc[:,4].values]] = 1\n",
    "# icm[np.arange(0,data.shape[0]), r_to_idx[data.iloc[:,5].values]] = 1\n",
    "# icm[np.arange(0,data.shape[0]), la_to_idx[data.iloc[:,6].values]] = 1\n",
    "# icm[np.arange(0,data.shape[0]), lg_to_idx[data.iloc[:,7].values]] = 1\n",
    "# icm[np.arange(0,data.shape[0]), e_to_idx[data.iloc[:,8].values]] = 1    \n",
    "# icm[np.arange(0,data.shape[0]), tags_to_idx[data.iloc[:,9].values]] = 1\n",
    "# icm[np.arange(0,data.shape[0]), titles_to_idx[data.iloc[:,10].values]] = 1    \n",
    "\n",
    "#icm for rated items by target users\n",
    "tdata = data[data['track_id'].isin(items_to_compute) == True]\n",
    "\n",
    "titems = tdata['track_id'].unique()\n",
    "\n",
    "titem_to_idx = pd.Series(data=np.arange(len(titems)), index=titems)\n",
    "idx_to_titem = pd.Series(index=titem_to_idx.data, data=titem_to_idx.index)\n",
    "\n",
    "ticm = sps.csc_matrix((tdata.shape[0], c.shape[0])) # + d.shape[0] + i.shape[0] + cn.shape[0] + r.shape[0] + la.shape[0] + lg.shape[0] + e.shape[0]))\n",
    "\n",
    "ticm[np.arange(0,tdata.shape[0]), c_to_idx[tdata.iloc[:,1].values]] = 1\n",
    "# ticm[np.arange(0,tdata.shape[0]), d_to_idx[tdata.iloc[:,2].values]] = 1\n",
    "# ticm[np.arange(0,tdata.shape[0]), i_to_idx[tdata.iloc[:,3].values]] = 1\n",
    "# ticm[np.arange(0,tdata.shape[0]), cn_to_idx[tdata.iloc[:,4].values]] = 1\n",
    "# ticm[np.arange(0,tdata.shape[0]), r_to_idx[tdata.iloc[:,5].values]] = 1\n",
    "# ticm[np.arange(0,tdata.shape[0]), la_to_idx[tdata.iloc[:,6].values]] = 1\n",
    "# ticm[np.arange(0,tdata.shape[0]), lg_to_idx[tdata.iloc[:,7].values]] = 1\n",
    "# ticm[np.arange(0,tdata.shape[0]), e_to_idx[tdata.iloc[:,8].values]] = 1\n",
    "# ticm[np.arange(0,tdata.shape[0]), tags_to_idx[tdata.iloc[:,9].values]] = 1\n",
    "# ticm[np.arange(0,tdata.shape[0]), titles_to_idx[tdata.iloc[:,10].values]] = 1\n",
    "\n",
    "def compute_sim():\n",
    "    c = Cosine()\n",
    "\n",
    "    sim = c.compute(icm, ticm)\n",
    "\n",
    "    count = 1\n",
    "    for i in titems:\n",
    "        sim[titem_to_idx[i], pitem_to_idx[i]] = 0.0\n",
    "        print(\"Finished for: \", count)\n",
    "        count += 1\n",
    "\n",
    "    mmwrite(\"./data/item_similarity.mtx\", sim)\n",
    "\n",
    "def filter_seen(user_id, ranking, rated_items):\n",
    "\n",
    "        seen = pitem_to_idx[rated_items].values\n",
    "        unseen_mask = np.in1d(ranking, seen, assume_unique=True, invert=True)\n",
    "        return ranking[unseen_mask]\n",
    "\n",
    "def filter_active(ranking):\n",
    "\n",
    "        active_mask = np.in1d(ranking, pitem_to_idx[not_active_items], assume_unique=True, invert=True)\n",
    "        return ranking[active_mask]\n",
    "\n",
    "#estimate rating of all items to user\n",
    "def recommend(user_id, n=None, exclude_seen=True):\n",
    "\n",
    "    rated = int_data[int_data['playlist_id'] == user_id]\n",
    "\n",
    "    rated_items = rated['track_id'].values\n",
    "    ratings = np.ones(rated.shape[0])#rated['interaction_type'].values\n",
    "    \n",
    "    s = sim[titem_to_idx[rated_items], :].toarray()\n",
    "    suma = s.sum(axis = 0)\n",
    "\n",
    "    ratings = ratings.reshape(1, ratings.shape[0]).T\n",
    "\n",
    "    ratings = np.tile(ratings, (1, s.shape[1]))\n",
    "\n",
    "\n",
    "    s = s*ratings\n",
    "    s = s.sum(axis = 0)\n",
    "\n",
    "    s = s/suma\n",
    "\n",
    "    if exclude_seen:\n",
    "            s = filter_seen(user_id, s, rated_items)\n",
    "            # s = filter_active(s)\n",
    "\n",
    "    s = np.argsort(s)[::-1]\n",
    "\n",
    "\n",
    "    return s[:n]\n",
    "\n",
    "\n",
    "# Main\n",
    "compute_sim()\n",
    "# sim = mmread(\"./data/item_similarity.mtx\")\n",
    "# sim = sim.tocsc()\n",
    "# #print(sim)\n",
    "\n",
    "\n",
    "# result = np.zeros((tusers_that_rated.shape[0], 6))\n",
    "\n",
    "# r = 0\n",
    "\n",
    "# for u in tusers_that_rated:\n",
    "\n",
    "#     result[r,0] = u\n",
    "#     result_idx = recommend(u, 5, False)\n",
    "#     result[r, 1:] = idx_to_pitem[result_idx].values\n",
    "#     r+=1\n",
    "#     print(\"Finished for: \", r)\n",
    "\n",
    "# np.savetxt('./data/result_content1.csv', result, fmt='%d, %d %d %d %d %d')"
   ]
  },
  {
   "cell_type": "code",
   "execution_count": null,
   "metadata": {
    "collapsed": true
   },
   "outputs": [],
   "source": []
  }
 ],
 "metadata": {
  "kernelspec": {
   "display_name": "Python 3",
   "language": "python",
   "name": "python3"
  },
  "language_info": {
   "codemirror_mode": {
    "name": "ipython",
    "version": 3
   },
   "file_extension": ".py",
   "mimetype": "text/x-python",
   "name": "python",
   "nbconvert_exporter": "python",
   "pygments_lexer": "ipython3",
   "version": "3.6.2"
  }
 },
 "nbformat": 4,
 "nbformat_minor": 2
}
